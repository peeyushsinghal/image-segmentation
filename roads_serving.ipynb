{
  "nbformat": 4,
  "nbformat_minor": 0,
  "metadata": {
    "colab": {
      "name": "roads-serving.ipynb",
      "provenance": [],
      "collapsed_sections": [],
      "authorship_tag": "ABX9TyPs8ODwm26qWnyo6437ffgL",
      "include_colab_link": true
    },
    "kernelspec": {
      "name": "python3",
      "display_name": "Python 3"
    },
    "language_info": {
      "name": "python"
    }
  },
  "cells": [
    {
      "cell_type": "markdown",
      "metadata": {
        "id": "view-in-github",
        "colab_type": "text"
      },
      "source": [
        "<a href=\"https://colab.research.google.com/github/peeyushsinghal/image-segmentation/blob/main/roads_serving.ipynb\" target=\"_parent\"><img src=\"https://colab.research.google.com/assets/colab-badge.svg\" alt=\"Open In Colab\"/></a>"
      ]
    },
    {
      "cell_type": "markdown",
      "metadata": {
        "id": "1JpnqgrApKJx"
      },
      "source": [
        "### Serving Image segmentation models using Flask on Google Colab"
      ]
    },
    {
      "cell_type": "code",
      "metadata": {
        "colab": {
          "base_uri": "https://localhost:8080/"
        },
        "id": "IO1ZnCwkpChs",
        "outputId": "b0a4d319-52ec-4ee3-f123-5f037b475063"
      },
      "source": [
        "!pip install flask-ngrok"
      ],
      "execution_count": null,
      "outputs": [
        {
          "output_type": "stream",
          "text": [
            "Requirement already satisfied: flask-ngrok in /usr/local/lib/python3.7/dist-packages (0.0.25)\n",
            "Requirement already satisfied: requests in /usr/local/lib/python3.7/dist-packages (from flask-ngrok) (2.23.0)\n",
            "Requirement already satisfied: Flask>=0.8 in /usr/local/lib/python3.7/dist-packages (from flask-ngrok) (1.1.4)\n",
            "Requirement already satisfied: chardet<4,>=3.0.2 in /usr/local/lib/python3.7/dist-packages (from requests->flask-ngrok) (3.0.4)\n",
            "Requirement already satisfied: idna<3,>=2.5 in /usr/local/lib/python3.7/dist-packages (from requests->flask-ngrok) (2.10)\n",
            "Requirement already satisfied: certifi>=2017.4.17 in /usr/local/lib/python3.7/dist-packages (from requests->flask-ngrok) (2021.5.30)\n",
            "Requirement already satisfied: urllib3!=1.25.0,!=1.25.1,<1.26,>=1.21.1 in /usr/local/lib/python3.7/dist-packages (from requests->flask-ngrok) (1.24.3)\n",
            "Requirement already satisfied: click<8.0,>=5.1 in /usr/local/lib/python3.7/dist-packages (from Flask>=0.8->flask-ngrok) (7.1.2)\n",
            "Requirement already satisfied: Jinja2<3.0,>=2.10.1 in /usr/local/lib/python3.7/dist-packages (from Flask>=0.8->flask-ngrok) (2.11.3)\n",
            "Requirement already satisfied: Werkzeug<2.0,>=0.15 in /usr/local/lib/python3.7/dist-packages (from Flask>=0.8->flask-ngrok) (1.0.1)\n",
            "Requirement already satisfied: itsdangerous<2.0,>=0.24 in /usr/local/lib/python3.7/dist-packages (from Flask>=0.8->flask-ngrok) (1.1.0)\n",
            "Requirement already satisfied: MarkupSafe>=0.23 in /usr/local/lib/python3.7/dist-packages (from Jinja2<3.0,>=2.10.1->Flask>=0.8->flask-ngrok) (2.0.1)\n"
          ],
          "name": "stdout"
        }
      ]
    },
    {
      "cell_type": "code",
      "metadata": {
        "colab": {
          "base_uri": "https://localhost:8080/"
        },
        "id": "KVv6Pc62nWmg",
        "outputId": "16d497c5-ecbd-4adc-9d55-805b42f4ce8b"
      },
      "source": [
        "from google.colab import drive\n",
        "# drive.flush_and_unmount()\n",
        "# drive.mount('/content/gdrive',force_remount=True)\n",
        "\n",
        "drive.mount('/content/gdrive')"
      ],
      "execution_count": null,
      "outputs": [
        {
          "output_type": "stream",
          "text": [
            "Drive already mounted at /content/gdrive; to attempt to forcibly remount, call drive.mount(\"/content/gdrive\", force_remount=True).\n"
          ],
          "name": "stdout"
        }
      ]
    },
    {
      "cell_type": "code",
      "metadata": {
        "id": "g1ZqZWoGnMzW"
      },
      "source": [
        "# Constants\n",
        "base_dir = '/content/gdrive/MyDrive/image-segment-dataset/massachusetts-roads-dataset/road_segmentation_ideal' # gdrive\n"
      ],
      "execution_count": null,
      "outputs": []
    },
    {
      "cell_type": "code",
      "metadata": {
        "id": "xA453WCanlEE",
        "colab": {
          "base_uri": "https://localhost:8080/"
        },
        "outputId": "1d582246-a4f3-448a-af90-48db88a6dff2"
      },
      "source": [
        "import os\n",
        "import cv2\n",
        "\n",
        "flask_app = os.path.join(base_dir,'flask_app') # flask app directory \n",
        "upload_folder = os.path.join(flask_app,'upload_folder') # upload folder within flask app dir\n",
        "templates = os.path.join(flask_app,'templates') # folder to store. templates\n",
        "\n",
        "dirs = [flask_app, upload_folder,templates]\n",
        "\n",
        "for dir in dirs:\n",
        "  try:\n",
        "      if not os.path.exists(dir):\n",
        "        os.makedirs(dir)\n",
        "        print(f\"{dir} directory is created\")\n",
        "      else:\n",
        "        print(f\"{dir} directory is already present\")\n",
        "  except:\n",
        "      print(f\"Problem encountered while creating {dir} directory\")\n"
      ],
      "execution_count": null,
      "outputs": [
        {
          "output_type": "stream",
          "text": [
            "/content/gdrive/MyDrive/image-segment-dataset/massachusetts-roads-dataset/road_segmentation_ideal/flask_app directory is already present\n",
            "/content/gdrive/MyDrive/image-segment-dataset/massachusetts-roads-dataset/road_segmentation_ideal/flask_app/upload_folder directory is already present\n",
            "/content/gdrive/MyDrive/image-segment-dataset/massachusetts-roads-dataset/road_segmentation_ideal/flask_app/templates directory is already present\n"
          ],
          "name": "stdout"
        }
      ]
    },
    {
      "cell_type": "code",
      "metadata": {
        "colab": {
          "base_uri": "https://localhost:8080/"
        },
        "id": "m9pX-NpIozOe",
        "outputId": "bfdcc4a6-1ebf-46ed-d5b7-396547c014ee"
      },
      "source": [
        "from flask_ngrok import run_with_ngrok\n",
        "from flask import Flask,flash,request,redirect,url_for,render_template\n",
        "import urllib.request\n",
        "import os\n",
        "from werkzeug.utils import secure_filename\n",
        "import cv2\n",
        "import tensorflow as tf\n",
        "# from PIL import Image\n",
        "import matplotlib.pyplot as plt # for plotting\n",
        "from matplotlib import cm # for storing predicted image\n",
        "import math # to execute math operations for image processing\n",
        "import numpy as np\n",
        "\n",
        "\n",
        "# import tf.keras.models import load_model\n",
        "\n",
        "\n",
        "\n",
        "ALLOWED_EXTENSIONS = set(['png'])\n",
        "UPLOAD_FOLDER = upload_folder\n",
        "app = Flask(__name__,template_folder=templates,static_folder=upload_folder)\n",
        "\n",
        "app.secret_key ='secret key'\n",
        "app.config['UPLOAD_FOLDER'] = UPLOAD_FOLDER\n",
        "app.config['MAX_CONTENT_LENGTH'] = 16*1500*1500\n",
        "\n",
        "run_with_ngrok(app)  \n",
        "\n",
        "def allowed_file(filename):\n",
        "\treturn '.' in filename and filename.rsplit('.', 1)[1].lower() in ALLOWED_EXTENSIONS\n",
        "\n",
        "def load_model(model_selected = 'unet_pretrained_mobilenetv2'):\n",
        "  model_dir = os.path.join(base_dir,'models') # models directory \n",
        "  model_save_dir = os.path.join(model_dir,str(model_selected)) # directory for the selected model\n",
        "  model_final_save_dir = os.path.join(model_save_dir,'model_save') # final save directory for the selected model\n",
        "\n",
        "  try:\n",
        "    if os.path.exists(model_dir) or os.path.exists(model_save_dir) or os.path.exists(model_final_save_dir):\n",
        "      print(\"Model Directories are accessible\")\n",
        "  except:\n",
        "    print(\"Model Directories are not present / accessible\")\n",
        "\n",
        "  custom_objects ={'dice_loss':tf.keras.losses,'metric_iou':tf.keras.metrics, 'dice_coef': tf.keras.metrics}\n",
        "  loaded_model = tf.keras.models.load_model(model_final_save_dir,custom_objects=custom_objects)\n",
        "  # # loaded_model = tf.keras.models.load_model(model_final_save_dir,custom_objects=custom_objects,compile=False) # compile = False, does not make model eligible for further fit and evaluate\n",
        "\n",
        "  return loaded_model\n",
        "\n",
        "def predict_loaded_model(x, loaded_model,\n",
        "                         model_img_size = 512,original_img_size=1500, \n",
        "                         threshold = 0.5\n",
        "                         ):\n",
        "  \n",
        "  # x = read_input_image(test_x)\n",
        "\n",
        "  split = math.ceil(original_img_size / model_img_size) # Number of split (tile size in one dimension)\n",
        "  \n",
        "  exact_split = True\n",
        "  if original_img_size % model_img_size != 0:\n",
        "    exact_split = False\n",
        "\n",
        "  split_size = int(original_img_size / split) # tile size or split size\n",
        "  assert (original_img_size % split) == 0, \"Please change the model image size, accepted model image sizes are 128,256,512,1024\"\n",
        "\n",
        "  tiles = [x[w:w+split_size,h:h+split_size] for w in range(0,original_img_size,split_size) for h in range(0,original_img_size,split_size)]\n",
        "  # print (f\" The image is split into {len(tiles)} parts\")\n",
        "\n",
        "  rows = int(math.sqrt(len(tiles)))\n",
        "  columns = int(math.sqrt(len(tiles)))\n",
        "  \n",
        "  tile_counter = 0\n",
        "  image_row = []\n",
        "  for row in range(0,rows):\n",
        "    list_col = []\n",
        "    for col in range(0,columns):\n",
        "      img = tiles[tile_counter]\n",
        "      tile_counter += 1\n",
        "      img = cv2.resize(img, (model_img_size, model_img_size),\n",
        "                       interpolation= cv2.INTER_LINEAR) # increase in size to model size\n",
        "      ''' model.predict goes here'''\n",
        "      img = loaded_model.predict(np.expand_dims(img, axis=0))[0] > threshold\n",
        "      # print(\"shape after predict\",img.shape)\n",
        "      img = cv2.resize(np.float32(img), (split_size, split_size),\n",
        "                       interpolation= cv2.INTER_AREA) # shinking in size to image split size\n",
        "      # print(\"shape after reduction in size\",img.shape)\n",
        "      list_col.append(img)           \n",
        "    all_row_imgs = np.concatenate(list_col, axis=1)\n",
        "    image_row.append(all_row_imgs)\n",
        "  y_pred = np.concatenate(image_row, axis=0)\n",
        "\n",
        "\n",
        "  return y_pred\n",
        "\n",
        "def read_input_image(path):\n",
        "    x = cv2.imread(path, cv2.IMREAD_COLOR)\n",
        "    x = cv2.cvtColor(x, cv2.COLOR_BGR2RGB)\n",
        "    # x = cv2.resize(x, (ORIGINAL_IMG_SIZE, ORIGINAL_IMG_SIZE))\n",
        "    x = x/255.0\n",
        "    return x\n",
        "\n",
        "@app.route(\"/\")\n",
        "# def home():\n",
        "#     return f\"Massachusetts-road-dataset Image Segmentation \"\n",
        "def upload_form():\n",
        " \treturn render_template('upload.html')\n",
        "\n",
        "@app.route('/', methods=['POST'])\n",
        "def upload_image():\n",
        "\tif 'file' not in request.files:\n",
        "\t\tflash('No file part')\n",
        "\t\treturn redirect(request.url)\n",
        "\tfile = request.files['file']\n",
        "\tif file.filename == '':\n",
        "\t\tflash('No image selected for uploading')\n",
        "\t\treturn redirect(request.url)\n",
        "\tif file and allowed_file(file.filename):\n",
        "\t\tfilename = secure_filename(file.filename)\n",
        "\t\tfile.save(os.path.join(app.config['UPLOAD_FOLDER'], filename))\n",
        "\t\t#print('upload_image filename: ' + filename)\n",
        "\t\tflash('Image successfully uploaded and displayed below')\n",
        "\t\treturn render_template('upload.html', filename=filename)\n",
        "\telse:\n",
        "\t\tflash('Allowed image type is png only')\n",
        "\t\treturn redirect(request.url)\n",
        "\n",
        "  \n",
        "@app.route('/display/<filename>')\n",
        "def display_image(filename):\n",
        "\n",
        "  # print('display_image filename: ' + filename)\n",
        "  return redirect(url_for('static', filename= filename), code=301)\n",
        "\n",
        "@app.route('/predict/<filename>')\n",
        "def predicted_image(filename):\n",
        "  img = read_input_image(os.path.join(app.config['UPLOAD_FOLDER'],filename))\n",
        "  loaded_model = load_model(model_selected = 'unet_pretrained_mobilenetv2')\n",
        "  y_pred = predict_loaded_model(img, loaded_model,\n",
        "                         model_img_size = 512,original_img_size=1500, \n",
        "                         threshold = 0.5)\n",
        "s  fname_updated = 'mask_'+str(filename.split(\"/\")[-1])\n",
        "  fname = os.path.join(app.config['UPLOAD_FOLDER'],fname_updated)\n",
        "  plt.imsave(fname, y_pred, cmap=cm.gray,format ='png')\n",
        "  return redirect(url_for('static', filename= fname_updated), code=301)\n",
        "\n",
        "\n",
        "app.run()"
      ],
      "execution_count": null,
      "outputs": [
        {
          "output_type": "stream",
          "text": [
            " * Serving Flask app \"__main__\" (lazy loading)\n",
            " * Environment: production\n",
            "\u001b[31m   WARNING: This is a development server. Do not use it in a production deployment.\u001b[0m\n",
            "\u001b[2m   Use a production WSGI server instead.\u001b[0m\n",
            " * Debug mode: off\n"
          ],
          "name": "stdout"
        },
        {
          "output_type": "stream",
          "text": [
            " * Running on http://127.0.0.1:5000/ (Press CTRL+C to quit)\n"
          ],
          "name": "stderr"
        },
        {
          "output_type": "stream",
          "text": [
            " * Running on http://de70b884fa4f.ngrok.io\n",
            " * Traffic stats available on http://127.0.0.1:4040\n"
          ],
          "name": "stdout"
        },
        {
          "output_type": "stream",
          "text": [
            "127.0.0.1 - - [11/Jul/2021 21:06:32] \"\u001b[37mGET / HTTP/1.1\u001b[0m\" 200 -\n",
            "127.0.0.1 - - [11/Jul/2021 21:06:33] \"\u001b[33mGET /favicon.ico HTTP/1.1\u001b[0m\" 404 -\n",
            "127.0.0.1 - - [11/Jul/2021 21:06:34] \"\u001b[37mGET / HTTP/1.1\u001b[0m\" 200 -\n",
            "127.0.0.1 - - [11/Jul/2021 21:06:45] \"\u001b[37mPOST / HTTP/1.1\u001b[0m\" 200 -\n",
            "127.0.0.1 - - [11/Jul/2021 21:06:46] \"\u001b[32mGET /display/img-1.png HTTP/1.1\u001b[0m\" 301 -\n",
            "127.0.0.1 - - [11/Jul/2021 21:06:46] \"\u001b[37mGET /upload_folder/img-1.png HTTP/1.1\u001b[0m\" 200 -\n",
            "127.0.0.1 - - [11/Jul/2021 21:07:08] \"\u001b[37mPOST / HTTP/1.1\u001b[0m\" 200 -\n"
          ],
          "name": "stderr"
        },
        {
          "output_type": "stream",
          "text": [
            "(1500, 1500, 3)\n",
            "Model Directories are accessible\n",
            "WARNING:tensorflow:Compiled the loaded model, but the compiled metrics have yet to be built. `model.compile_metrics` will be empty until you train or evaluate the model.\n",
            "[[0. 0. 0. ... 0. 0. 0.]\n",
            " [0. 0. 0. ... 0. 0. 0.]\n",
            " [0. 0. 0. ... 0. 0. 0.]\n",
            " ...\n",
            " [0. 0. 0. ... 0. 0. 0.]\n",
            " [0. 0. 0. ... 0. 0. 0.]\n",
            " [0. 0. 0. ... 0. 0. 0.]]\n",
            "(1500, 1500)\n"
          ],
          "name": "stdout"
        },
        {
          "output_type": "stream",
          "text": [
            "127.0.0.1 - - [11/Jul/2021 21:07:54] \"\u001b[32mGET /predict/img-1.png HTTP/1.1\u001b[0m\" 301 -\n",
            "127.0.0.1 - - [11/Jul/2021 21:07:54] \"\u001b[37mGET /upload_folder/mask_img-1.png HTTP/1.1\u001b[0m\" 200 -\n"
          ],
          "name": "stderr"
        }
      ]
    }
  ]
}